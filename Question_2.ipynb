{
 "cells": [
  {
   "cell_type": "code",
   "execution_count": null,
   "metadata": {},
   "outputs": [
    {
     "name": "stdout",
     "output_type": "stream",
     "text": [
      "12/2023\n",
      "JM\n",
      "FISCAL YEAR 2024 ANNUAL FINANCIAL REPORT\n",
      "\n",
      "UNITED STATES\n",
      "SECURITIES AND EXCHANGE COMMISSION\n",
      "Washington, D.C. 20549\n",
      "FORM 10-K\n",
      "☒ ANNUAL REPORT PURSUANT TO SECTION 13 OR 15(d) OF THE SECURITIES EXCHANGE ACT OF 1934\n",
      "For the fiscal year ended September 28, 2024\n",
      "or\n",
      "☐ TRANSITION REPORT PURSUANT TO SECTION 13 OR 15(d) OF THE SECURITIES EXCHANGE ACT OF 1934\n",
      "For the transition period from __________ to __________.\n",
      "Commission File Number 001-38842\n",
      "Delaware 83-0940635\n",
      "State or Other Jurisdiction of I.R.S. Employer Identification\n",
      "Incorporation or Organization\n",
      "500 South Buena Vista Street\n",
      "Burbank, California 91521\n",
      "Address of Principal Executive Offices and Zip Code\n",
      "(818) 560-1000\n",
      "Registrant’s Telephone Number, Including Area Code\n",
      "Securities registered pursuant to Section 12(b) of the Act:\n",
      "Title of each class Trading Symbol(s) Name of each exchange on which registered\n",
      "Common Stock, $0.01 par value DIS New York Stock Exchange\n",
      "Securities Registered Pursuant to Section 12(g) of the Act: None.\n",
      "\n"
     ]
    }
   ],
   "source": [
    "import pdfplumber\n",
    "import re\n",
    "import nltk\n",
    "from nltk.tokenize import sent_tokenize\n",
    "from collections import Counter\n",
    "from sklearn.feature_extraction.text import TfidfVectorizer\n",
    "from transformers import pipeline, AutoTokenizer\n",
    "\n",
    "# Step 1: Extract Text from PDF\n",
    "\n",
    "def extract_text_from_pdf(pdf_path):\n",
    "    \"\"\"\n",
    "    Extracts text from a PDF file using pdfplumber.\n",
    "    :param pdf_path: Path to the PDF file.\n",
    "    :return: Extracted text as a string.\n",
    "    \"\"\"\n",
    "    text = \"\"\n",
    "    with pdfplumber.open(pdf_path) as pdf:\n",
    "        for page in pdf.pages:\n",
    "            text += page.extract_text() + \"\\n\"\n",
    "    return text\n",
    "\n",
    "# Define the file path of the Disney 10-K report\n",
    "pdf_path = \"/Users/pengxue/Documents/GitHub/MGTF423_group2/2024-Annual-Report.pdf\"\n",
    "disney_text = extract_text_from_pdf(pdf_path)\n",
    "\n",
    "# Preview the first 1000 characters to verify text extraction\n",
    "print(disney_text[:1000])\n",
    "\n"
   ]
  },
  {
   "cell_type": "code",
   "execution_count": null,
   "metadata": {},
   "outputs": [
    {
     "name": "stdout",
     "output_type": "stream",
     "text": [
      "['12 2023 JM FISCAL YEAR 2024 ANNUAL FINANCIAL REPORT UNITED STATES SECURITIES AND EXCHANGE COMMISSION Washington, D.C. 20549 FORM 10-K   ANNUAL REPORT PURSUANT TO SECTION 13 OR 15 d  OF THE SECURITIES EXCHANGE ACT OF 1934 For the fiscal year ended September 28, 2024 or   TRANSITION REPORT PURSUANT TO SECTION 13 OR 15 d  OF THE SECURITIES EXCHANGE ACT OF 1934 For the transition period from            to           .', 'Commission File Number 001-38842 Delaware 83-0940635 State or Other Jurisdiction of I.R.S.', 'Employer Identification Incorporation or Organization 500 South Buena Vista Street Burbank, California 91521 Address of Principal Executive Offices and Zip Code  818  560-1000 Registrant s Telephone Number, Including Area Code Securities registered pursuant to Section 12 b  of the Act  Title of each class Trading Symbol s  Name of each exchange on which registered Common Stock, $0.01 par value DIS New York Stock Exchange Securities Registered Pursuant to Section 12 g  of the Act  None.', 'Indicate by check mark if the registrant is a well-known seasoned issuer, as defined in Rule 405 of the Securities Act.', 'Yes x No o Indicate by check mark if the registrant is not required to file reports pursuant to Section 13 or Section 15 d  of the Act.']\n"
     ]
    }
   ],
   "source": [
    "\n",
    "# Step 2: Text Preprocessing\n",
    "\n",
    "def clean_text(text):\n",
    "    \"\"\"\n",
    "    Cleans the extracted text by removing unnecessary spaces and special characters.\n",
    "    :param text: Raw text extracted from PDF.\n",
    "    :return: Cleaned text.\n",
    "    \"\"\"\n",
    "    text = re.sub(r'\\n+', ' ', text)  # Replace multiple newlines with a space\n",
    "    text = re.sub(r'\\s+', ' ', text)  # Remove excessive whitespace\n",
    "    text = re.sub(r'[^A-Za-z0-9.,$%-]', ' ', text)  # Keep only letters, numbers, and relevant punctuation\n",
    "    return text.strip()\n",
    "\n",
    "# Apply text cleaning\n",
    "cleaned_text = clean_text(disney_text)\n",
    "\n",
    "# Split text into sentences using NLTK\n",
    "sentences = sent_tokenize(cleaned_text)\n",
    "\n",
    "# Preview the first few sentences\n",
    "print(sentences[:5])\n"
   ]
  },
  {
   "cell_type": "code",
   "execution_count": null,
   "metadata": {},
   "outputs": [
    {
     "name": "stdout",
     "output_type": "stream",
     "text": [
      "Equity Financing Keywords: Counter({'common stock': 18, 'share repurchase': 8, 'preferred stock': 4})\n",
      "Debt Financing Keywords: Counter({'leverage ratio': 3, 'long-term debt': 2, 'short-term debt': 2})\n"
     ]
    }
   ],
   "source": [
    "\n",
    "\n",
    "# Step 3: Keyword Frequency Analysis\n",
    "\n",
    "# Define keywords for equity and debt financing\n",
    "equity_keywords = [\"equity financing\", \"common stock\", \"preferred stock\", \"share repurchase\", \"stock dilution\"]\n",
    "debt_keywords = [\"long-term debt\", \"short-term debt\", \"bond issuance\", \"leverage ratio\", \"loan facility\"]\n",
    "\n",
    "def count_keywords(sentences, keywords):\n",
    "    \"\"\"\n",
    "    Counts the occurrence of specified keywords in the given sentences.\n",
    "    :param sentences: List of tokenized sentences.\n",
    "    :param keywords: List of keywords to search for.\n",
    "    :return: Dictionary with keyword frequencies.\n",
    "    \"\"\"\n",
    "    keyword_count = Counter()\n",
    "    for sent in sentences:\n",
    "        for keyword in keywords:\n",
    "            if keyword in sent.lower():\n",
    "                keyword_count[keyword] += 1\n",
    "    return keyword_count\n",
    "\n",
    "# Compute keyword frequency for equity and debt-related terms\n",
    "equity_counts = count_keywords(sentences, equity_keywords)\n",
    "debt_counts = count_keywords(sentences, debt_keywords)\n",
    "\n",
    "# Display keyword frequency results\n",
    "print(\"Equity Financing Keywords:\", equity_counts)\n",
    "print(\"Debt Financing Keywords:\", debt_counts)\n",
    "\n"
   ]
  },
  {
   "cell_type": "code",
   "execution_count": null,
   "metadata": {},
   "outputs": [
    {
     "name": "stdout",
     "output_type": "stream",
     "text": [
      "Equity Investment TF-IDF Scores: {'equity': 80.55860934749428, 'equity investment': 6.122431609197084, 'preferred stock': 0.9522264599862467}\n",
      "Debt Financing TF-IDF Scores: {'debt': 31.2520914144321, 'long term debt': 1.6626255486673593, 'short term debt': 1.6626255486673596}\n"
     ]
    }
   ],
   "source": [
    "\n",
    "# Step 4: TF-IDF Analysis\n",
    "\n",
    "# Define vocabulary for TF-IDF analysis\n",
    "equity_related_vocab = [\"equity\", \"equity investment\", \"preferred stock\"]\n",
    "debt_related_vocab = [\"debt\", \"long term debt\", \"short term debt\"]\n",
    "\n",
    "# Compute TF-IDF scores\n",
    "vectorizer = TfidfVectorizer(ngram_range=(1,3), analyzer=\"word\", lowercase=True, \n",
    "                             vocabulary=equity_related_vocab + debt_related_vocab)\n",
    "tfidf_matrix = vectorizer.fit_transform(sentences)\n",
    "\n",
    "# Extract feature names\n",
    "feature_names = vectorizer.get_feature_names_out()\n",
    "\n",
    "def get_tfidf_scores(tfidf_matrix, feature_names):\n",
    "    \"\"\"\n",
    "    Calculates the TF-IDF scores for the given vocabulary.\n",
    "    :param tfidf_matrix: The TF-IDF transformed matrix.\n",
    "    :param feature_names: The vocabulary used in TF-IDF.\n",
    "    :return: Dictionary with TF-IDF scores.\n",
    "    \"\"\"\n",
    "    scores = {word: tfidf_matrix[:, i].sum() for i, word in enumerate(feature_names)}\n",
    "    return scores\n",
    "\n",
    "# Compute TF-IDF scores\n",
    "tfidf_scores = get_tfidf_scores(tfidf_matrix, feature_names)\n",
    "\n",
    "# Extract scores for equity and debt-related terms\n",
    "equity_scores = {k: v for k, v in tfidf_scores.items() if k in equity_related_vocab}\n",
    "debt_scores = {k: v for k, v in tfidf_scores.items() if k in debt_related_vocab}\n",
    "\n",
    "# Display TF-IDF scores\n",
    "print(\"Equity Investment TF-IDF Scores:\", equity_scores)\n",
    "print(\"Debt Financing TF-IDF Scores:\", debt_scores)\n",
    "\n"
   ]
  },
  {
   "cell_type": "code",
   "execution_count": null,
   "metadata": {},
   "outputs": [
    {
     "name": "stderr",
     "output_type": "stream",
     "text": [
      "Device set to use mps:0\n"
     ]
    },
    {
     "name": "stdout",
     "output_type": "stream",
     "text": [
      "Positive Sentiment: 27\n",
      "Negative Sentiment: 91\n",
      "Equity Sentiment: Positive: 23, Negative: 62\n",
      "Debt Sentiment: Positive: 6, Negative: 32\n"
     ]
    }
   ],
   "source": [
    "\n",
    "# Step 5: Sentiment Analysis\n",
    "\n",
    "# Load a pre-trained sentiment analysis model\n",
    "model_name = \"distilbert-base-uncased-finetuned-sst-2-english\"\n",
    "sentiment_model = pipeline(\"sentiment-analysis\", model=model_name)\n",
    "tokenizer = AutoTokenizer.from_pretrained(model_name)\n",
    "\n",
    "# Extract sentences related to equity and debt financing\n",
    "finance_related_sentences = [sent for sent in sentences if \"equity\" in sent.lower() or \"debt\" in sent.lower()]\n",
    "\n",
    "def chunk_text_by_tokens(text, max_tokens=512):\n",
    "    \"\"\"\n",
    "    Truncates text to fit within the model's token limit.\n",
    "    :param text: Input text.\n",
    "    :param max_tokens: Maximum token length.\n",
    "    :return: Truncated text.\n",
    "    \"\"\"\n",
    "    encoded = tokenizer.encode_plus(\n",
    "        text, truncation=True, max_length=max_tokens, return_tensors=\"pt\"\n",
    "    )\n",
    "    return tokenizer.decode(encoded[\"input_ids\"][0], skip_special_tokens=True)\n",
    "\n",
    "# Process finance-related sentences\n",
    "chunked_sentences = [chunk_text_by_tokens(sent, max_tokens=512) for sent in finance_related_sentences]\n",
    "\n",
    "# Batch process sentiment analysis for efficiency\n",
    "sentiment_results = sentiment_model(chunked_sentences, batch_size=8)\n",
    "\n",
    "# Count positive and negative sentiment occurrences\n",
    "positive_sentiments = sum(1 for s in sentiment_results if s[\"label\"] == \"POSITIVE\")\n",
    "negative_sentiments = sum(1 for s in sentiment_results if s[\"label\"] == \"NEGATIVE\")\n",
    "\n",
    "# Display overall sentiment analysis results\n",
    "print(f\"Positive Sentiment: {positive_sentiments}\")\n",
    "print(f\"Negative Sentiment: {negative_sentiments}\")\n",
    "\n",
    "\n",
    "# Step 5.2: Compare Sentiments for Equity and Debt\n",
    "\n",
    "# Separate equity and debt-related sentences\n",
    "equity_sentences = [sent for sent in finance_related_sentences if \"equity\" in sent.lower()]\n",
    "debt_sentences = [sent for sent in finance_related_sentences if \"debt\" in sent.lower()]\n",
    "\n",
    "# Process text chunks\n",
    "chunked_equity_sentences = [chunk_text_by_tokens(sent, max_tokens=512) for sent in equity_sentences]\n",
    "chunked_debt_sentences = [chunk_text_by_tokens(sent, max_tokens=512) for sent in debt_sentences]\n",
    "\n",
    "# Perform sentiment analysis separately for equity and debt sentences\n",
    "equity_sentiment_results = sentiment_model(chunked_equity_sentences, batch_size=8)\n",
    "debt_sentiment_results = sentiment_model(chunked_debt_sentences, batch_size=8)\n",
    "\n",
    "# Count positive and negative sentiments for equity and debt\n",
    "equity_positive = sum(1 for s in equity_sentiment_results if s[\"label\"] == \"POSITIVE\")\n",
    "equity_negative = sum(1 for s in equity_sentiment_results if s[\"label\"] == \"NEGATIVE\")\n",
    "\n",
    "debt_positive = sum(1 for s in debt_sentiment_results if s[\"label\"] == \"POSITIVE\")\n",
    "debt_negative = sum(1 for s in debt_sentiment_results if s[\"label\"] == \"NEGATIVE\")\n",
    "\n",
    "# Display sentiment comparison results\n",
    "print(f\"Equity Sentiment: Positive: {equity_positive}, Negative: {equity_negative}\")\n",
    "print(f\"Debt Sentiment: Positive: {debt_positive}, Negative: {debt_negative}\")"
   ]
  }
 ],
 "metadata": {
  "kernelspec": {
   "display_name": "base",
   "language": "python",
   "name": "python3"
  },
  "language_info": {
   "codemirror_mode": {
    "name": "ipython",
    "version": 3
   },
   "file_extension": ".py",
   "mimetype": "text/x-python",
   "name": "python",
   "nbconvert_exporter": "python",
   "pygments_lexer": "ipython3",
   "version": "3.12.2"
  }
 },
 "nbformat": 4,
 "nbformat_minor": 2
}
